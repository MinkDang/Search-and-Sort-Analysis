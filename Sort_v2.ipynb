{
 "cells": [
  {
   "cell_type": "markdown",
   "metadata": {},
   "source": [
    "# Comparing Insertion Sort, Selection Sort and Bubble Sort\n",
    "The higher the upper limit the better the visualisation"
   ]
  },
  {
   "cell_type": "markdown",
   "metadata": {},
   "source": [
    "## Configuration"
   ]
  },
  {
   "cell_type": "markdown",
   "metadata": {},
   "source": [
    "### Import"
   ]
  },
  {
   "cell_type": "code",
   "execution_count": null,
   "metadata": {},
   "outputs": [],
   "source": [
    "import numpy as np\n",
    "import matplotlib.pyplot as plt\n",
    "from IPython.display import clear_output\n",
    "from timeit import default_timer as timer"
   ]
  },
  {
   "cell_type": "markdown",
   "metadata": {},
   "source": [
    "### Data processing\n"
   ]
  },
  {
   "cell_type": "markdown",
   "metadata": {},
   "source": [
    "Import CSV with filter from <https://simplemaps.com/data/world-cities>"
   ]
  },
  {
   "cell_type": "code",
   "execution_count": null,
   "metadata": {},
   "outputs": [],
   "source": [
    "cities = np.loadtxt('CSVs/simplemaps_worldcities_basicv1.74/worldcities.csv', \n",
    "delimiter = ',', usecols = [1], skiprows = 1, dtype = object, encoding = 'utf-8')"
   ]
  },
  {
   "cell_type": "markdown",
   "metadata": {},
   "source": [
    "Sample size customisation"
   ]
  },
  {
   "cell_type": "code",
   "execution_count": null,
   "metadata": {},
   "outputs": [],
   "source": [
    "def int_check(prompt, no_zero = None):\n",
    "    while True:\n",
    "        try:\n",
    "            value = int(input(prompt))\n",
    "        except ValueError:\n",
    "            if no_zero is None:\n",
    "                value = np.random.randint(np.iinfo(np.int32).max)\n",
    "            else:\n",
    "                value = 41001\n",
    "        \n",
    "        if no_zero is None and value < 0:\n",
    "            print(\"Please input a number larger or equal to 0\")\n",
    "            continue\n",
    "        \n",
    "        if no_zero is not None and (value <= 0 or value > len(cities)):\n",
    "            print(\"Please input a number larger than 0 and smaller than \" + str(len(cities)))\n",
    "            continue\n",
    "\n",
    "        clear_output()\n",
    "        return value\n",
    "\n",
    "seed_info = int_check('Choose your seed ( ≥ 0 ): ') # If ValueError then a random seed between 0 and top limit of int32 would be selected\n",
    "np.random.seed(seed_info)\n",
    "\n",
    "np.random.shuffle(cities) # Inplace shuffle\n",
    "\n",
    "upper_limit = int_check('Choose your upper limit ( > 0 and ≤ 41001 ): ', True) # If ValueError then max upper limit of 41001 would be used\n",
    "\n",
    "print(f\"Seed: {seed_info}, Upper Limit: {upper_limit}\")"
   ]
  },
  {
   "cell_type": "markdown",
   "metadata": {},
   "source": [
    "## __*Insertion*__ **sort**\n",
    "Insertion sort is a sorting algorithm that places an unsorted element at its suitable place in each iteration."
   ]
  },
  {
   "cell_type": "code",
   "execution_count": null,
   "metadata": {},
   "outputs": [],
   "source": [
    "def Insertion_sort(tosort, descending = None):\n",
    "    new_reference = tosort.copy()\n",
    "\n",
    "    start = timer() # Performance - Start timer\n",
    "\n",
    "    for i in range(1, len(new_reference)):\n",
    "        key = new_reference[i]\n",
    "        j = i - 1\n",
    "        \n",
    "        while j >= 0 and key > new_reference[j]:\n",
    "            new_reference[j + 1] = new_reference[j]\n",
    "            j -= 1\n",
    "        \n",
    "        # Place key at after the element just smaller/larger than it.\n",
    "        new_reference[j+1] = key\n",
    "    \n",
    "    end = timer() # Performance - End timer\n",
    "\n",
    "    return (end - start)*10**6\n",
    "\n",
    "benchmark_insertion = []\n",
    "for i in range(1, upper_limit):\n",
    "    benchmark_insertion.append(Insertion_sort(cities[:i]))"
   ]
  },
  {
   "cell_type": "markdown",
   "metadata": {},
   "source": [
    "## **_Selection_ sort**\n",
    "Selection sort is a sorting algorithm that selects the smallest element from an unsorted list in each iteration and places that element at the beginning of the unsorted list."
   ]
  },
  {
   "cell_type": "code",
   "execution_count": null,
   "metadata": {},
   "outputs": [],
   "source": [
    "def Selection_sort(tosort, descending = None):\n",
    "    new_reference = tosort.copy()\n",
    "\n",
    "    start = timer() # Performacnce - Start timer\n",
    "    \n",
    "    for i in range(len(new_reference)):\n",
    "        idx = i\n",
    "\n",
    "        for j in range(i + 1, len(new_reference)):\n",
    "            if new_reference[j] < new_reference[idx]:\n",
    "                idx = j\n",
    "         \n",
    "        # Swapping\n",
    "        (new_reference[i], new_reference[idx]) = (new_reference[idx], new_reference[i])\n",
    "    \n",
    "    end = timer() # Performance - End timer\n",
    "    \n",
    "    return (end - start)*10**6\n",
    "\n",
    "benchmark_selection = []\n",
    "for i in range(1, upper_limit):\n",
    "    benchmark_selection.append(Selection_sort(cities[:i]))"
   ]
  },
  {
   "cell_type": "markdown",
   "metadata": {},
   "source": [
    "## **_Bubble_ sort**\n",
    "Bubble sort is a sorting algorithm that compares two adjacent elements and swaps them until they are not in the intended order."
   ]
  },
  {
   "cell_type": "code",
   "execution_count": null,
   "metadata": {},
   "outputs": [],
   "source": [
    "def Bubble_sort(tosort, descending = None):\n",
    "    new_reference = tosort.copy()\n",
    "\n",
    "    start = timer() # Performance - Start timer\n",
    "\n",
    "    # Loop to access each array element\n",
    "    for i in range(len(new_reference) - 1):\n",
    "\n",
    "        # Loop to compare array elements\n",
    "        for j in range(0, len(new_reference) - 1):\n",
    "            if new_reference[j] > new_reference[j + 1]:\n",
    "                (new_reference[j], new_reference[j + 1]) = (new_reference[j + 1], new_reference[j])\n",
    "    \n",
    "    end = timer() # Performance - End timer\n",
    "    \n",
    "    return (end - start)*10**6\n",
    "\n",
    "benchmark_bubble_1 = []\n",
    "for i in range(1, upper_limit):\n",
    "    benchmark_bubble_1.append(Bubble_sort(cities[:i]))"
   ]
  },
  {
   "cell_type": "markdown",
   "metadata": {},
   "source": [
    "## **_Bubble_ sort** (Optimised)"
   ]
  },
  {
   "cell_type": "code",
   "execution_count": null,
   "metadata": {},
   "outputs": [],
   "source": [
    "def Bubble_sort_optimised(tosort, descending = None):\n",
    "    new_reference = tosort.copy()\n",
    "\n",
    "    start = timer() # Performance - Start timer\n",
    "\n",
    "    # Loop to access each array element\n",
    "    for i in range(len(new_reference)):\n",
    "        \n",
    "        # Loop to compare array elements (1 less item each loop)\n",
    "        for j in range(0, len(new_reference) - i - 1):\n",
    "\n",
    "            # Compare two adjacent elements and swap in order\n",
    "            if descending == None:\n",
    "                if new_reference[j] > new_reference[j + 1]:\n",
    "                    (new_reference[j], new_reference[j + 1]) = (new_reference[j + 1], new_reference[j])\n",
    "            # Descending order, change '<' to '>'\n",
    "            else:\n",
    "                if new_reference[j] < new_reference[j + 1]:\n",
    "                    (new_reference[j], new_reference[j + 1]) = (new_reference[j + 1], new_reference[j])\n",
    "\n",
    "    end = timer() # Performance - End timer\n",
    "\n",
    "    return (end - start)*10**6\n",
    "\n",
    "benchmark_bubble_2 = []\n",
    "for i in range(1, upper_limit):\n",
    "    benchmark_bubble_2.append(Bubble_sort_optimised(cities[:i]))"
   ]
  },
  {
   "cell_type": "markdown",
   "metadata": {},
   "source": [
    "## Result Visualisation\n",
    "Example from https://matplotlib.org/stable/gallery/lines_bars_and_markers/barchart.html"
   ]
  },
  {
   "cell_type": "code",
   "execution_count": null,
   "metadata": {},
   "outputs": [],
   "source": [
    "labels = ['Insertion', 'Selection', 'Bubble', 'Bubble (Optimised)']\n",
    "\n",
    "fig, ax = plt.subplots(figsize = (50,18))\n",
    "\n",
    "x_axis = list(range(1, upper_limit))\n",
    "\n",
    "ax.plot(x_axis, benchmark_insertion, label = 'Insertion', linewidth = 2)\n",
    "ax.plot(x_axis, benchmark_selection, c = 'k', label = 'Selection', linewidth = 2)\n",
    "ax.plot(x_axis, benchmark_bubble_1, c = 'peru', label = 'Bubble', linewidth = 2)\n",
    "ax.plot(x_axis, benchmark_bubble_2, c = 'orange', label = 'Bubble (Optimised)', linewidth = 2)\n",
    "\n",
    "# Change y-label when suitable\n",
    "yticks = ax.get_yticks().astype(str)\n",
    "zeros_count = int(yticks[2].count('0')) - 1\n",
    "\n",
    "if zeros_count > 1:\n",
    "    for i in range(2, len(yticks)):\n",
    "        yticks[i] = str(int(float(yticks[i])))[:zeros_count*-1] + ' * 10^' + str(zeros_count)\n",
    "\n",
    "    ax.set_yticklabels(yticks)\n",
    "\n",
    "# Other setup\n",
    "ax.set_xlabel('Number of Array Items')\n",
    "ax.set_title(\"Different sorting algorithms' performance\")\n",
    "ax.set_ylabel('Time (microseconds)')\n",
    "leg = ax.legend(loc = 'upper left', facecolor = 'seashell', edgecolor = 'k', borderpad = 1)\n",
    "\n",
    "for line in leg.get_lines():\n",
    "    line.set_linewidth(10)\n",
    "\n",
    "plt.rcParams[\"font.size\"] = \"30\"\n",
    "\n",
    "save_fig = input(\"Would you like to save the plot in high resolutions (yes): \")\n",
    "if save_fig.lower() == 'yes':\n",
    "    plt.savefig('Sort_v2 comparison.png', dpi = 300, facecolor = 'w', transparent = False, bbox_inches = 'tight')\n",
    "\n",
    "plt.show()"
   ]
  },
  {
   "cell_type": "markdown",
   "metadata": {},
   "source": [
    "# *Other links*\n",
    "\n",
    "[Python Objects Nature and Numpy Arrays (Why a copy of array is needed when sorting) | StackOverflow](https://stackoverflow.com/a/3059553/14046889)\n",
    "\n",
    "[How to switch position of two items in a Python list?](https://stackoverflow.com/questions/2493920/how-to-switch-position-of-two-items-in-a-python-list)\n",
    "\n",
    "[Sorting Algorithms](https://www.programiz.com/dsa/sorting-algorithm)"
   ]
  }
 ],
 "metadata": {
  "interpreter": {
   "hash": "4c51f7142b9cadeb633f8ba5ad1dbeab2b9f8f60df15e88320442ad438d0e3e8"
  },
  "kernelspec": {
   "display_name": "Python 3.9.6 64-bit",
   "language": "python",
   "name": "python3"
  },
  "language_info": {
   "codemirror_mode": {
    "name": "ipython",
    "version": 3
   },
   "file_extension": ".py",
   "mimetype": "text/x-python",
   "name": "python",
   "nbconvert_exporter": "python",
   "pygments_lexer": "ipython3",
   "version": "3.9.6"
  },
  "orig_nbformat": 4
 },
 "nbformat": 4,
 "nbformat_minor": 2
}
